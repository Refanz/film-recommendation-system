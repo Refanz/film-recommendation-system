{
 "cells": [
  {
   "metadata": {},
   "cell_type": "markdown",
   "source": "# **Proyek Sistem Rekomendasi: Rekomendasi Film 1996 - 2018**",
   "id": "d0faa5bc7e7dbf1"
  },
  {
   "metadata": {},
   "cell_type": "markdown",
   "source": "## **Import Library**",
   "id": "f32b7f3feb35e862"
  },
  {
   "metadata": {},
   "cell_type": "code",
   "outputs": [],
   "execution_count": null,
   "source": "",
   "id": "dfa49a628ec5dc82"
  },
  {
   "metadata": {},
   "cell_type": "markdown",
   "source": "## **Loading Dataset**",
   "id": "742b62c1dc2555b0"
  },
  {
   "metadata": {},
   "cell_type": "code",
   "outputs": [],
   "execution_count": null,
   "source": "",
   "id": "92b5fa1eaf29dcb6"
  },
  {
   "metadata": {},
   "cell_type": "markdown",
   "source": "## **Exploratory Data Analysis (EDA)**",
   "id": "75893faa77858e12"
  },
  {
   "metadata": {},
   "cell_type": "code",
   "outputs": [],
   "execution_count": null,
   "source": "",
   "id": "30a9ade6862d570"
  },
  {
   "metadata": {},
   "cell_type": "markdown",
   "source": "## **Data Preparation**",
   "id": "dc4ea355de459c6f"
  },
  {
   "metadata": {},
   "cell_type": "code",
   "outputs": [],
   "execution_count": null,
   "source": "",
   "id": "8d6a2f211646ff81"
  },
  {
   "metadata": {},
   "cell_type": "markdown",
   "source": "## **Building Model**",
   "id": "cee8278632aa82ec"
  },
  {
   "metadata": {},
   "cell_type": "code",
   "outputs": [],
   "execution_count": null,
   "source": "",
   "id": "26de4f23a0a5f039"
  },
  {
   "metadata": {},
   "cell_type": "markdown",
   "source": "## **Evaluating Model**",
   "id": "6f224aa211460c92"
  },
  {
   "metadata": {},
   "cell_type": "code",
   "outputs": [],
   "execution_count": null,
   "source": "",
   "id": "bb47e4f638311f81"
  },
  {
   "metadata": {},
   "cell_type": "markdown",
   "source": "## **Hyperparameter Tuning**",
   "id": "1eba5b2168d515bb"
  },
  {
   "metadata": {},
   "cell_type": "code",
   "outputs": [],
   "execution_count": null,
   "source": "",
   "id": "a38f8e80d53e9116"
  },
  {
   "metadata": {},
   "cell_type": "markdown",
   "source": "## **Evaluating Model after Tuning**",
   "id": "51a9ebd54d57b2e0"
  },
  {
   "metadata": {},
   "cell_type": "code",
   "outputs": [],
   "execution_count": null,
   "source": "",
   "id": "942d7af6d8008e43"
  },
  {
   "metadata": {},
   "cell_type": "code",
   "outputs": [],
   "execution_count": null,
   "source": "",
   "id": "db7ef112f39a9aa9"
  },
  {
   "metadata": {},
   "cell_type": "code",
   "outputs": [],
   "execution_count": null,
   "source": "",
   "id": "d96017083fe1dba0"
  },
  {
   "metadata": {},
   "cell_type": "code",
   "outputs": [],
   "execution_count": null,
   "source": "",
   "id": "fb347078a2f71cdc"
  },
  {
   "metadata": {},
   "cell_type": "code",
   "outputs": [],
   "execution_count": null,
   "source": "",
   "id": "886617126bbd8c49"
  },
  {
   "metadata": {},
   "cell_type": "code",
   "outputs": [],
   "execution_count": null,
   "source": "",
   "id": "6d08f5785d4424fb"
  },
  {
   "metadata": {},
   "cell_type": "code",
   "outputs": [],
   "execution_count": null,
   "source": "",
   "id": "c184fb3b8ec0cb5"
  },
  {
   "metadata": {},
   "cell_type": "code",
   "outputs": [],
   "execution_count": null,
   "source": "",
   "id": "2faa8101ad1ca6a2"
  },
  {
   "metadata": {},
   "cell_type": "code",
   "outputs": [],
   "execution_count": null,
   "source": "",
   "id": "bdafe2005a1df959"
  },
  {
   "metadata": {},
   "cell_type": "code",
   "outputs": [],
   "execution_count": null,
   "source": "",
   "id": "1738269dce8b9948"
  },
  {
   "metadata": {},
   "cell_type": "code",
   "outputs": [],
   "execution_count": null,
   "source": "",
   "id": "1e352a04ee38808"
  }
 ],
 "metadata": {
  "kernelspec": {
   "display_name": "Python 3",
   "language": "python",
   "name": "python3"
  },
  "language_info": {
   "codemirror_mode": {
    "name": "ipython",
    "version": 2
   },
   "file_extension": ".py",
   "mimetype": "text/x-python",
   "name": "python",
   "nbconvert_exporter": "python",
   "pygments_lexer": "ipython2",
   "version": "2.7.6"
  }
 },
 "nbformat": 4,
 "nbformat_minor": 5
}
